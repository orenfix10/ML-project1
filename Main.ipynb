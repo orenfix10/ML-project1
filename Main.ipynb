{
  "nbformat": 4,
  "nbformat_minor": 0,
  "metadata": {
    "colab": {
      "provenance": [],
      "collapsed_sections": [],
      "include_colab_link": true
    },
    "kernelspec": {
      "name": "python3",
      "display_name": "Python 3"
    },
    "language_info": {
      "name": "python"
    },
    "gpuClass": "standard"
  },
  "cells": [
    {
      "cell_type": "markdown",
      "metadata": {
        "id": "view-in-github",
        "colab_type": "text"
      },
      "source": [
        "<a href=\"https://colab.research.google.com/github/orenfix10/ML-project1/blob/main/Main.ipynb\" target=\"_parent\"><img src=\"https://colab.research.google.com/assets/colab-badge.svg\" alt=\"Open In Colab\"/></a>"
      ]
    },
    {
      "cell_type": "markdown",
      "source": [
        "# **Ex1 - Unsupervised learning**"
      ],
      "metadata": {
        "id": "djcj7z3isEoG"
      }
    },
    {
      "cell_type": "markdown",
      "source": [
        "## Names and IDs\n",
        "\n",
        "1.   oren fix 315666479\n",
        "2.   nitzan bakalchuk 318595386\n"
      ],
      "metadata": {
        "id": "bbLvYfOMnaOr"
      }
    },
    {
      "cell_type": "markdown",
      "source": [
        "In this assignemnt you will practice unsupervised methods we saw in class, and specifically running K-means and visualizing the data using PCA.\n",
        "\n",
        "In this assignment you will learn a few more things:\n",
        "\n",
        "1.   Load local files\n",
        "2.   Load data from Kaggle\n",
        "3. Use Scikit-learn K-means\n",
        "4. Use Scikit-learn PCA\n",
        "5. Some visulaization\n",
        "6. Evaluate the performance of the clustering using Elbow methods, Siouhette analysis and accuracy (as we have true labels)\n",
        "\n",
        "Note:\n",
        "* Read the complete task before implementing.\n",
        "* Reuse code, write functions."
      ],
      "metadata": {
        "id": "vpmlOOaKWUHr"
      }
    },
    {
      "cell_type": "markdown",
      "source": [
        "## Import All Packages\n",
        "Add all imports needed for this notebook to run"
      ],
      "metadata": {
        "id": "SmSdJm9coKpE"
      }
    },
    {
      "cell_type": "code",
      "source": [
        "import pandas as pd\n",
        "import numpy as np\n",
        "import seaborn as sns\n",
        "import matplotlib.pyplot as plt\n",
        "from sklearn.model_selection import train_test_split\n",
        "from sklearn.metrics import accuracy_score\n",
        "from sklearn.metrics import classification_report\n",
        "from sklearn.decomposition import PCA\n",
        "import nltk\n",
        "from nltk.corpus import stopwords\n",
        "from nltk.tokenize import word_tokenize\n",
        "import matplotlib as mat\n",
        "from sklearn import preprocessing\n",
        "from sklearn.feature_extraction.text import TfidfVectorizer\n",
        "from sklearn.datasets import make_blobs\n",
        "from sklearn.cluster import KMeans\n",
        "from sklearn.metrics import silhouette_samples, silhouette_score\n",
        "from yellowbrick.cluster import KElbowVisualizer"
      ],
      "metadata": {
        "id": "ZAw8GGhYT1gJ"
      },
      "execution_count": null,
      "outputs": []
    },
    {
      "cell_type": "markdown",
      "source": [
        "# Text Clustering And Dimension Reduction"
      ],
      "metadata": {
        "id": "y_-HIZ7Rnkfa"
      }
    },
    {
      "cell_type": "markdown",
      "source": [
        "In this exercise you will cluster fake news using `k-means` and visualize the clustering using PCA."
      ],
      "metadata": {
        "id": "kQKN1XWKtGu2"
      }
    },
    {
      "cell_type": "markdown",
      "source": [
        "**Import the Fake News Dataset from Kaggle**\n",
        "\n",
        "Navigate to https://www.kaggle.com. Then go to the [Account tab of your user profile](https://www.kaggle.com/me/account) and select Create API Token. This will trigger the download of kaggle.json, a file containing your API credentials.\n",
        "\n",
        "Then run the cell below and click the upload button to upload kaggle.json to your Colab runtime.\n",
        "\n",
        "After uploading the kaggle.json the fake news dataset will be copy to the enviroment in the '/content' directory. You will see the two files 'Fake.csv' and 'True.csv'.\n",
        "\n",
        "For more about the dataset you can read [here](https://www.kaggle.com/clmentbisaillon/fake-and-real-news-dataset)."
      ],
      "metadata": {
        "id": "cjvrUWutYAQD"
      }
    },
    {
      "cell_type": "code",
      "source": [
        "from google.colab import files\n",
        "\n",
        "# upload kaggle.json file using user prompt\n",
        "uploaded = files.upload()\n",
        "for fn in uploaded.keys():\n",
        "  print('User uploaded file \"{name}\" with length {length} bytes'.format(\n",
        "      name=fn, length=len(uploaded[fn])))\n",
        "  \n",
        "# Then move kaggle.json into the folder where the API expects to find it.\n",
        "!mkdir -p ~/.kaggle/ && mv kaggle.json ~/.kaggle/ && chmod 600 ~/.kaggle/kaggle.json\n",
        "\n",
        "# download the dataset\n",
        "!kaggle datasets download -d clmentbisaillon/fake-and-real-news-dataset\n",
        "\n",
        "# extract the files\n",
        "!unzip '/content/fake-and-real-news-dataset.zip'"
      ],
      "metadata": {
        "id": "pt0gDVr_YGvc",
        "colab": {
          "base_uri": "https://localhost:8080/",
          "height": 195
        },
        "outputId": "78977ab4-0c71-412e-926c-6626d110ade1"
      },
      "execution_count": null,
      "outputs": [
        {
          "output_type": "display_data",
          "data": {
            "text/plain": [
              "<IPython.core.display.HTML object>"
            ],
            "text/html": [
              "\n",
              "     <input type=\"file\" id=\"files-7f3214d3-bb83-4800-9686-47f2a4c5a5cd\" name=\"files[]\" multiple disabled\n",
              "        style=\"border:none\" />\n",
              "     <output id=\"result-7f3214d3-bb83-4800-9686-47f2a4c5a5cd\">\n",
              "      Upload widget is only available when the cell has been executed in the\n",
              "      current browser session. Please rerun this cell to enable.\n",
              "      </output>\n",
              "      <script>// Copyright 2017 Google LLC\n",
              "//\n",
              "// Licensed under the Apache License, Version 2.0 (the \"License\");\n",
              "// you may not use this file except in compliance with the License.\n",
              "// You may obtain a copy of the License at\n",
              "//\n",
              "//      http://www.apache.org/licenses/LICENSE-2.0\n",
              "//\n",
              "// Unless required by applicable law or agreed to in writing, software\n",
              "// distributed under the License is distributed on an \"AS IS\" BASIS,\n",
              "// WITHOUT WARRANTIES OR CONDITIONS OF ANY KIND, either express or implied.\n",
              "// See the License for the specific language governing permissions and\n",
              "// limitations under the License.\n",
              "\n",
              "/**\n",
              " * @fileoverview Helpers for google.colab Python module.\n",
              " */\n",
              "(function(scope) {\n",
              "function span(text, styleAttributes = {}) {\n",
              "  const element = document.createElement('span');\n",
              "  element.textContent = text;\n",
              "  for (const key of Object.keys(styleAttributes)) {\n",
              "    element.style[key] = styleAttributes[key];\n",
              "  }\n",
              "  return element;\n",
              "}\n",
              "\n",
              "// Max number of bytes which will be uploaded at a time.\n",
              "const MAX_PAYLOAD_SIZE = 100 * 1024;\n",
              "\n",
              "function _uploadFiles(inputId, outputId) {\n",
              "  const steps = uploadFilesStep(inputId, outputId);\n",
              "  const outputElement = document.getElementById(outputId);\n",
              "  // Cache steps on the outputElement to make it available for the next call\n",
              "  // to uploadFilesContinue from Python.\n",
              "  outputElement.steps = steps;\n",
              "\n",
              "  return _uploadFilesContinue(outputId);\n",
              "}\n",
              "\n",
              "// This is roughly an async generator (not supported in the browser yet),\n",
              "// where there are multiple asynchronous steps and the Python side is going\n",
              "// to poll for completion of each step.\n",
              "// This uses a Promise to block the python side on completion of each step,\n",
              "// then passes the result of the previous step as the input to the next step.\n",
              "function _uploadFilesContinue(outputId) {\n",
              "  const outputElement = document.getElementById(outputId);\n",
              "  const steps = outputElement.steps;\n",
              "\n",
              "  const next = steps.next(outputElement.lastPromiseValue);\n",
              "  return Promise.resolve(next.value.promise).then((value) => {\n",
              "    // Cache the last promise value to make it available to the next\n",
              "    // step of the generator.\n",
              "    outputElement.lastPromiseValue = value;\n",
              "    return next.value.response;\n",
              "  });\n",
              "}\n",
              "\n",
              "/**\n",
              " * Generator function which is called between each async step of the upload\n",
              " * process.\n",
              " * @param {string} inputId Element ID of the input file picker element.\n",
              " * @param {string} outputId Element ID of the output display.\n",
              " * @return {!Iterable<!Object>} Iterable of next steps.\n",
              " */\n",
              "function* uploadFilesStep(inputId, outputId) {\n",
              "  const inputElement = document.getElementById(inputId);\n",
              "  inputElement.disabled = false;\n",
              "\n",
              "  const outputElement = document.getElementById(outputId);\n",
              "  outputElement.innerHTML = '';\n",
              "\n",
              "  const pickedPromise = new Promise((resolve) => {\n",
              "    inputElement.addEventListener('change', (e) => {\n",
              "      resolve(e.target.files);\n",
              "    });\n",
              "  });\n",
              "\n",
              "  const cancel = document.createElement('button');\n",
              "  inputElement.parentElement.appendChild(cancel);\n",
              "  cancel.textContent = 'Cancel upload';\n",
              "  const cancelPromise = new Promise((resolve) => {\n",
              "    cancel.onclick = () => {\n",
              "      resolve(null);\n",
              "    };\n",
              "  });\n",
              "\n",
              "  // Wait for the user to pick the files.\n",
              "  const files = yield {\n",
              "    promise: Promise.race([pickedPromise, cancelPromise]),\n",
              "    response: {\n",
              "      action: 'starting',\n",
              "    }\n",
              "  };\n",
              "\n",
              "  cancel.remove();\n",
              "\n",
              "  // Disable the input element since further picks are not allowed.\n",
              "  inputElement.disabled = true;\n",
              "\n",
              "  if (!files) {\n",
              "    return {\n",
              "      response: {\n",
              "        action: 'complete',\n",
              "      }\n",
              "    };\n",
              "  }\n",
              "\n",
              "  for (const file of files) {\n",
              "    const li = document.createElement('li');\n",
              "    li.append(span(file.name, {fontWeight: 'bold'}));\n",
              "    li.append(span(\n",
              "        `(${file.type || 'n/a'}) - ${file.size} bytes, ` +\n",
              "        `last modified: ${\n",
              "            file.lastModifiedDate ? file.lastModifiedDate.toLocaleDateString() :\n",
              "                                    'n/a'} - `));\n",
              "    const percent = span('0% done');\n",
              "    li.appendChild(percent);\n",
              "\n",
              "    outputElement.appendChild(li);\n",
              "\n",
              "    const fileDataPromise = new Promise((resolve) => {\n",
              "      const reader = new FileReader();\n",
              "      reader.onload = (e) => {\n",
              "        resolve(e.target.result);\n",
              "      };\n",
              "      reader.readAsArrayBuffer(file);\n",
              "    });\n",
              "    // Wait for the data to be ready.\n",
              "    let fileData = yield {\n",
              "      promise: fileDataPromise,\n",
              "      response: {\n",
              "        action: 'continue',\n",
              "      }\n",
              "    };\n",
              "\n",
              "    // Use a chunked sending to avoid message size limits. See b/62115660.\n",
              "    let position = 0;\n",
              "    do {\n",
              "      const length = Math.min(fileData.byteLength - position, MAX_PAYLOAD_SIZE);\n",
              "      const chunk = new Uint8Array(fileData, position, length);\n",
              "      position += length;\n",
              "\n",
              "      const base64 = btoa(String.fromCharCode.apply(null, chunk));\n",
              "      yield {\n",
              "        response: {\n",
              "          action: 'append',\n",
              "          file: file.name,\n",
              "          data: base64,\n",
              "        },\n",
              "      };\n",
              "\n",
              "      let percentDone = fileData.byteLength === 0 ?\n",
              "          100 :\n",
              "          Math.round((position / fileData.byteLength) * 100);\n",
              "      percent.textContent = `${percentDone}% done`;\n",
              "\n",
              "    } while (position < fileData.byteLength);\n",
              "  }\n",
              "\n",
              "  // All done.\n",
              "  yield {\n",
              "    response: {\n",
              "      action: 'complete',\n",
              "    }\n",
              "  };\n",
              "}\n",
              "\n",
              "scope.google = scope.google || {};\n",
              "scope.google.colab = scope.google.colab || {};\n",
              "scope.google.colab._files = {\n",
              "  _uploadFiles,\n",
              "  _uploadFilesContinue,\n",
              "};\n",
              "})(self);\n",
              "</script> "
            ]
          },
          "metadata": {}
        },
        {
          "output_type": "stream",
          "name": "stdout",
          "text": [
            "Saving kaggle.json to kaggle.json\n",
            "User uploaded file \"kaggle.json\" with length 63 bytes\n",
            "Downloading fake-and-real-news-dataset.zip to /content\n",
            " 98% 40.0M/41.0M [00:02<00:00, 26.4MB/s]\n",
            "100% 41.0M/41.0M [00:02<00:00, 17.3MB/s]\n",
            "Archive:  /content/fake-and-real-news-dataset.zip\n",
            "  inflating: Fake.csv                \n",
            "  inflating: True.csv                \n"
          ]
        }
      ]
    },
    {
      "cell_type": "markdown",
      "source": [
        "## 1. Read the csv files and create one single dataframe (5 points)\n",
        "\n",
        "*   Create a dataframe which is the join of the two files 'Fake.csv' and 'True.csv'.\n",
        "*   Extract the 'text' column from each dataframe (droping title, subject and date columns).\n",
        "*   Create a single dataframe containing a text column and a label column (fake=0, real=1)."
      ],
      "metadata": {
        "id": "sIT7GQbLo9-c"
      }
    },
    {
      "cell_type": "code",
      "source": [
        "# Implement here\n",
        "# Example for reading one file. It will work if the previous step was successful.\n",
        "face_df = pd.read_csv('/content/Fake.csv')\n",
        "df_fake = pd.read_csv(\"/content/Fake.csv\")\n",
        "df_true = pd.read_csv(\"/content/True.csv\")\n",
        "df_fake['label']=0\n",
        "df_true['label']=1\n",
        "frames = [df_fake,df_true]\n",
        "df_join = pd.concat(frames)\n",
        "df = df_join[['text', 'label']]\n",
        "df"
      ],
      "metadata": {
        "id": "tYvY12rep0sO",
        "colab": {
          "base_uri": "https://localhost:8080/",
          "height": 424
        },
        "outputId": "41db303f-78a1-457d-b474-be5387793892"
      },
      "execution_count": null,
      "outputs": [
        {
          "output_type": "execute_result",
          "data": {
            "text/plain": [
              "                                                    text  label\n",
              "0      Donald Trump just couldn t wish all Americans ...      0\n",
              "1      House Intelligence Committee Chairman Devin Nu...      0\n",
              "2      On Friday, it was revealed that former Milwauk...      0\n",
              "3      On Christmas day, Donald Trump announced that ...      0\n",
              "4      Pope Francis used his annual Christmas Day mes...      0\n",
              "...                                                  ...    ...\n",
              "21412  BRUSSELS (Reuters) - NATO allies on Tuesday we...      1\n",
              "21413  LONDON (Reuters) - LexisNexis, a provider of l...      1\n",
              "21414  MINSK (Reuters) - In the shadow of disused Sov...      1\n",
              "21415  MOSCOW (Reuters) - Vatican Secretary of State ...      1\n",
              "21416  JAKARTA (Reuters) - Indonesia will buy 11 Sukh...      1\n",
              "\n",
              "[44898 rows x 2 columns]"
            ],
            "text/html": [
              "\n",
              "  <div id=\"df-9e44c3c4-8cb8-4eaa-9a72-ee84c3a68b87\">\n",
              "    <div class=\"colab-df-container\">\n",
              "      <div>\n",
              "<style scoped>\n",
              "    .dataframe tbody tr th:only-of-type {\n",
              "        vertical-align: middle;\n",
              "    }\n",
              "\n",
              "    .dataframe tbody tr th {\n",
              "        vertical-align: top;\n",
              "    }\n",
              "\n",
              "    .dataframe thead th {\n",
              "        text-align: right;\n",
              "    }\n",
              "</style>\n",
              "<table border=\"1\" class=\"dataframe\">\n",
              "  <thead>\n",
              "    <tr style=\"text-align: right;\">\n",
              "      <th></th>\n",
              "      <th>text</th>\n",
              "      <th>label</th>\n",
              "    </tr>\n",
              "  </thead>\n",
              "  <tbody>\n",
              "    <tr>\n",
              "      <th>0</th>\n",
              "      <td>Donald Trump just couldn t wish all Americans ...</td>\n",
              "      <td>0</td>\n",
              "    </tr>\n",
              "    <tr>\n",
              "      <th>1</th>\n",
              "      <td>House Intelligence Committee Chairman Devin Nu...</td>\n",
              "      <td>0</td>\n",
              "    </tr>\n",
              "    <tr>\n",
              "      <th>2</th>\n",
              "      <td>On Friday, it was revealed that former Milwauk...</td>\n",
              "      <td>0</td>\n",
              "    </tr>\n",
              "    <tr>\n",
              "      <th>3</th>\n",
              "      <td>On Christmas day, Donald Trump announced that ...</td>\n",
              "      <td>0</td>\n",
              "    </tr>\n",
              "    <tr>\n",
              "      <th>4</th>\n",
              "      <td>Pope Francis used his annual Christmas Day mes...</td>\n",
              "      <td>0</td>\n",
              "    </tr>\n",
              "    <tr>\n",
              "      <th>...</th>\n",
              "      <td>...</td>\n",
              "      <td>...</td>\n",
              "    </tr>\n",
              "    <tr>\n",
              "      <th>21412</th>\n",
              "      <td>BRUSSELS (Reuters) - NATO allies on Tuesday we...</td>\n",
              "      <td>1</td>\n",
              "    </tr>\n",
              "    <tr>\n",
              "      <th>21413</th>\n",
              "      <td>LONDON (Reuters) - LexisNexis, a provider of l...</td>\n",
              "      <td>1</td>\n",
              "    </tr>\n",
              "    <tr>\n",
              "      <th>21414</th>\n",
              "      <td>MINSK (Reuters) - In the shadow of disused Sov...</td>\n",
              "      <td>1</td>\n",
              "    </tr>\n",
              "    <tr>\n",
              "      <th>21415</th>\n",
              "      <td>MOSCOW (Reuters) - Vatican Secretary of State ...</td>\n",
              "      <td>1</td>\n",
              "    </tr>\n",
              "    <tr>\n",
              "      <th>21416</th>\n",
              "      <td>JAKARTA (Reuters) - Indonesia will buy 11 Sukh...</td>\n",
              "      <td>1</td>\n",
              "    </tr>\n",
              "  </tbody>\n",
              "</table>\n",
              "<p>44898 rows × 2 columns</p>\n",
              "</div>\n",
              "      <button class=\"colab-df-convert\" onclick=\"convertToInteractive('df-9e44c3c4-8cb8-4eaa-9a72-ee84c3a68b87')\"\n",
              "              title=\"Convert this dataframe to an interactive table.\"\n",
              "              style=\"display:none;\">\n",
              "        \n",
              "  <svg xmlns=\"http://www.w3.org/2000/svg\" height=\"24px\"viewBox=\"0 0 24 24\"\n",
              "       width=\"24px\">\n",
              "    <path d=\"M0 0h24v24H0V0z\" fill=\"none\"/>\n",
              "    <path d=\"M18.56 5.44l.94 2.06.94-2.06 2.06-.94-2.06-.94-.94-2.06-.94 2.06-2.06.94zm-11 1L8.5 8.5l.94-2.06 2.06-.94-2.06-.94L8.5 2.5l-.94 2.06-2.06.94zm10 10l.94 2.06.94-2.06 2.06-.94-2.06-.94-.94-2.06-.94 2.06-2.06.94z\"/><path d=\"M17.41 7.96l-1.37-1.37c-.4-.4-.92-.59-1.43-.59-.52 0-1.04.2-1.43.59L10.3 9.45l-7.72 7.72c-.78.78-.78 2.05 0 2.83L4 21.41c.39.39.9.59 1.41.59.51 0 1.02-.2 1.41-.59l7.78-7.78 2.81-2.81c.8-.78.8-2.07 0-2.86zM5.41 20L4 18.59l7.72-7.72 1.47 1.35L5.41 20z\"/>\n",
              "  </svg>\n",
              "      </button>\n",
              "      \n",
              "  <style>\n",
              "    .colab-df-container {\n",
              "      display:flex;\n",
              "      flex-wrap:wrap;\n",
              "      gap: 12px;\n",
              "    }\n",
              "\n",
              "    .colab-df-convert {\n",
              "      background-color: #E8F0FE;\n",
              "      border: none;\n",
              "      border-radius: 50%;\n",
              "      cursor: pointer;\n",
              "      display: none;\n",
              "      fill: #1967D2;\n",
              "      height: 32px;\n",
              "      padding: 0 0 0 0;\n",
              "      width: 32px;\n",
              "    }\n",
              "\n",
              "    .colab-df-convert:hover {\n",
              "      background-color: #E2EBFA;\n",
              "      box-shadow: 0px 1px 2px rgba(60, 64, 67, 0.3), 0px 1px 3px 1px rgba(60, 64, 67, 0.15);\n",
              "      fill: #174EA6;\n",
              "    }\n",
              "\n",
              "    [theme=dark] .colab-df-convert {\n",
              "      background-color: #3B4455;\n",
              "      fill: #D2E3FC;\n",
              "    }\n",
              "\n",
              "    [theme=dark] .colab-df-convert:hover {\n",
              "      background-color: #434B5C;\n",
              "      box-shadow: 0px 1px 3px 1px rgba(0, 0, 0, 0.15);\n",
              "      filter: drop-shadow(0px 1px 2px rgba(0, 0, 0, 0.3));\n",
              "      fill: #FFFFFF;\n",
              "    }\n",
              "  </style>\n",
              "\n",
              "      <script>\n",
              "        const buttonEl =\n",
              "          document.querySelector('#df-9e44c3c4-8cb8-4eaa-9a72-ee84c3a68b87 button.colab-df-convert');\n",
              "        buttonEl.style.display =\n",
              "          google.colab.kernel.accessAllowed ? 'block' : 'none';\n",
              "\n",
              "        async function convertToInteractive(key) {\n",
              "          const element = document.querySelector('#df-9e44c3c4-8cb8-4eaa-9a72-ee84c3a68b87');\n",
              "          const dataTable =\n",
              "            await google.colab.kernel.invokeFunction('convertToInteractive',\n",
              "                                                     [key], {});\n",
              "          if (!dataTable) return;\n",
              "\n",
              "          const docLinkHtml = 'Like what you see? Visit the ' +\n",
              "            '<a target=\"_blank\" href=https://colab.research.google.com/notebooks/data_table.ipynb>data table notebook</a>'\n",
              "            + ' to learn more about interactive tables.';\n",
              "          element.innerHTML = '';\n",
              "          dataTable['output_type'] = 'display_data';\n",
              "          await google.colab.output.renderOutput(dataTable, element);\n",
              "          const docLink = document.createElement('div');\n",
              "          docLink.innerHTML = docLinkHtml;\n",
              "          element.appendChild(docLink);\n",
              "        }\n",
              "      </script>\n",
              "    </div>\n",
              "  </div>\n",
              "  "
            ]
          },
          "metadata": {},
          "execution_count": 3
        }
      ]
    },
    {
      "cell_type": "code",
      "source": [
        "true_label = df['label'].to_numpy()\n",
        "\n"
      ],
      "metadata": {
        "id": "0xQ2QGbiUoIi"
      },
      "execution_count": null,
      "outputs": []
    },
    {
      "cell_type": "markdown",
      "source": [
        "## 2. Cluster the samples into 2 clusters (real and fake) (15 points)\n",
        "\n",
        "*   Generate TF-IDF features by applying the TfidfVectorizer preprocessor using 1000 features (`max_features=1000`) and remove English stop words.\n",
        "* Scale the data.\n",
        "*    Apply k-Means algorithm on the TF-IDF features using n_clusters=2."
      ],
      "metadata": {
        "id": "-Wp5qcYwqBxi"
      }
    },
    {
      "cell_type": "code",
      "source": [
        "tfidf = TfidfVectorizer(stop_words='english',max_features=1000)\n",
        "fiting = tfidf.fit_transform(df['text'])\n",
        "Scaler = preprocessing.StandardScaler()\n",
        "x_scaled = Scaler.fit_transform(fiting.toarray())\n",
        "\n",
        "df_tfidf = pd.DataFrame(x_scaled, columns=tfidf.get_feature_names())\n",
        "\n",
        "\n",
        "\n",
        "df_tfidf"
      ],
      "metadata": {
        "colab": {
          "base_uri": "https://localhost:8080/",
          "height": 522
        },
        "id": "TZhx8F3GtbSj",
        "outputId": "e6c5298c-ea99-44b0-96f6-2d77db26820e"
      },
      "execution_count": null,
      "outputs": [
        {
          "output_type": "stream",
          "name": "stderr",
          "text": [
            "/usr/local/lib/python3.7/dist-packages/sklearn/utils/deprecation.py:87: FutureWarning: Function get_feature_names is deprecated; get_feature_names is deprecated in 1.0 and will be removed in 1.2. Please use get_feature_names_out instead.\n",
            "  warnings.warn(msg, category=FutureWarning)\n"
          ]
        },
        {
          "output_type": "execute_result",
          "data": {
            "text/plain": [
              "            000        10       100        11        12        13        14  \\\n",
              "0     -0.312264 -0.270308 -0.210312  1.459728 -0.201095 -0.164567 -0.158347   \n",
              "1     -0.312264 -0.270308 -0.210312 -0.195872 -0.201095 -0.164567 -0.158347   \n",
              "2     -0.312264 -0.270308 -0.210312 -0.195872 -0.201095 -0.164567 -0.158347   \n",
              "3     -0.312264 -0.270308 -0.210312 -0.195872 -0.201095 -0.164567 -0.158347   \n",
              "4     -0.312264 -0.270308 -0.210312 -0.195872 -0.201095 -0.164567 -0.158347   \n",
              "...         ...       ...       ...       ...       ...       ...       ...   \n",
              "44893  1.721993 -0.270308 -0.210312  1.563734  1.822955 -0.164567 -0.158347   \n",
              "44894 -0.312264 -0.270308 -0.210312 -0.195872 -0.201095 -0.164567 -0.158347   \n",
              "44895 -0.312264 -0.270308 -0.210312 -0.195872 -0.201095 -0.164567 -0.158347   \n",
              "44896 -0.312264 -0.270308 -0.210312 -0.195872 -0.201095 -0.164567 -0.158347   \n",
              "44897 -0.312264 -0.270308 -0.210312  4.177268 -0.201095 -0.164567  5.927684   \n",
              "\n",
              "             15        16        17  ...   working     world     wrong  \\\n",
              "0     -0.215335 -0.159684 -0.161096  ... -0.276717 -0.350613  2.042211   \n",
              "1     -0.215335 -0.159684 -0.161096  ... -0.276717  1.735007 -0.195610   \n",
              "2     -0.215335 -0.159684 -0.161096  ... -0.276717 -0.350613 -0.195610   \n",
              "3     -0.215335 -0.159684 -0.161096  ...  1.862901 -0.350613 -0.195610   \n",
              "4     -0.215335 -0.159684 -0.161096  ... -0.276717  1.534471 -0.195610   \n",
              "...         ...       ...       ...  ...       ...       ...       ...   \n",
              "44893  1.660926  2.313051 -0.161096  ... -0.276717 -0.350613 -0.195610   \n",
              "44894 -0.215335 -0.159684 -0.161096  ... -0.276717 -0.350613 -0.195610   \n",
              "44895 -0.215335 -0.159684 -0.161096  ... -0.276717 -0.350613 -0.195610   \n",
              "44896 -0.215335 -0.159684 -0.161096  ... -0.276717  4.323972 -0.195610   \n",
              "44897 -0.215335 -0.159684 -0.161096  ... -0.276717 -0.350613 -0.195610   \n",
              "\n",
              "          wrote      year     years      yes      york     young   youtube  \n",
              "0     -0.242463  9.793219  2.372095 -0.16537 -0.292684 -0.193154 -0.144181  \n",
              "1     -0.242463 -0.512032 -0.450821 -0.16537  4.495332 -0.193154 -0.144181  \n",
              "2     -0.242463  0.046667 -0.450821 -0.16537 -0.292684 -0.193154 -0.144181  \n",
              "3     -0.242463  0.394799 -0.450821 -0.16537 -0.292684 -0.193154 -0.144181  \n",
              "4     -0.242463 -0.512032 -0.450821 -0.16537 -0.292684  3.021840 -0.144181  \n",
              "...         ...       ...       ...      ...       ...       ...       ...  \n",
              "44893 -0.242463  0.218143  0.549263 -0.16537 -0.292684 -0.193154 -0.144181  \n",
              "44894 -0.242463  3.439467 -0.450821 -0.16537 -0.292684 -0.193154 -0.144181  \n",
              "44895 -0.242463  1.236493  4.338909 -0.16537 -0.292684 -0.193154 -0.144181  \n",
              "44896 -0.242463  1.124464 -0.450821 -0.16537 -0.292684 -0.193154 -0.144181  \n",
              "44897 -0.242463 -0.512032  2.034683 -0.16537 -0.292684 -0.193154 -0.144181  \n",
              "\n",
              "[44898 rows x 1000 columns]"
            ],
            "text/html": [
              "\n",
              "  <div id=\"df-4b6cfb48-8fd6-4fc4-adc2-0fb43b520972\">\n",
              "    <div class=\"colab-df-container\">\n",
              "      <div>\n",
              "<style scoped>\n",
              "    .dataframe tbody tr th:only-of-type {\n",
              "        vertical-align: middle;\n",
              "    }\n",
              "\n",
              "    .dataframe tbody tr th {\n",
              "        vertical-align: top;\n",
              "    }\n",
              "\n",
              "    .dataframe thead th {\n",
              "        text-align: right;\n",
              "    }\n",
              "</style>\n",
              "<table border=\"1\" class=\"dataframe\">\n",
              "  <thead>\n",
              "    <tr style=\"text-align: right;\">\n",
              "      <th></th>\n",
              "      <th>000</th>\n",
              "      <th>10</th>\n",
              "      <th>100</th>\n",
              "      <th>11</th>\n",
              "      <th>12</th>\n",
              "      <th>13</th>\n",
              "      <th>14</th>\n",
              "      <th>15</th>\n",
              "      <th>16</th>\n",
              "      <th>17</th>\n",
              "      <th>...</th>\n",
              "      <th>working</th>\n",
              "      <th>world</th>\n",
              "      <th>wrong</th>\n",
              "      <th>wrote</th>\n",
              "      <th>year</th>\n",
              "      <th>years</th>\n",
              "      <th>yes</th>\n",
              "      <th>york</th>\n",
              "      <th>young</th>\n",
              "      <th>youtube</th>\n",
              "    </tr>\n",
              "  </thead>\n",
              "  <tbody>\n",
              "    <tr>\n",
              "      <th>0</th>\n",
              "      <td>-0.312264</td>\n",
              "      <td>-0.270308</td>\n",
              "      <td>-0.210312</td>\n",
              "      <td>1.459728</td>\n",
              "      <td>-0.201095</td>\n",
              "      <td>-0.164567</td>\n",
              "      <td>-0.158347</td>\n",
              "      <td>-0.215335</td>\n",
              "      <td>-0.159684</td>\n",
              "      <td>-0.161096</td>\n",
              "      <td>...</td>\n",
              "      <td>-0.276717</td>\n",
              "      <td>-0.350613</td>\n",
              "      <td>2.042211</td>\n",
              "      <td>-0.242463</td>\n",
              "      <td>9.793219</td>\n",
              "      <td>2.372095</td>\n",
              "      <td>-0.16537</td>\n",
              "      <td>-0.292684</td>\n",
              "      <td>-0.193154</td>\n",
              "      <td>-0.144181</td>\n",
              "    </tr>\n",
              "    <tr>\n",
              "      <th>1</th>\n",
              "      <td>-0.312264</td>\n",
              "      <td>-0.270308</td>\n",
              "      <td>-0.210312</td>\n",
              "      <td>-0.195872</td>\n",
              "      <td>-0.201095</td>\n",
              "      <td>-0.164567</td>\n",
              "      <td>-0.158347</td>\n",
              "      <td>-0.215335</td>\n",
              "      <td>-0.159684</td>\n",
              "      <td>-0.161096</td>\n",
              "      <td>...</td>\n",
              "      <td>-0.276717</td>\n",
              "      <td>1.735007</td>\n",
              "      <td>-0.195610</td>\n",
              "      <td>-0.242463</td>\n",
              "      <td>-0.512032</td>\n",
              "      <td>-0.450821</td>\n",
              "      <td>-0.16537</td>\n",
              "      <td>4.495332</td>\n",
              "      <td>-0.193154</td>\n",
              "      <td>-0.144181</td>\n",
              "    </tr>\n",
              "    <tr>\n",
              "      <th>2</th>\n",
              "      <td>-0.312264</td>\n",
              "      <td>-0.270308</td>\n",
              "      <td>-0.210312</td>\n",
              "      <td>-0.195872</td>\n",
              "      <td>-0.201095</td>\n",
              "      <td>-0.164567</td>\n",
              "      <td>-0.158347</td>\n",
              "      <td>-0.215335</td>\n",
              "      <td>-0.159684</td>\n",
              "      <td>-0.161096</td>\n",
              "      <td>...</td>\n",
              "      <td>-0.276717</td>\n",
              "      <td>-0.350613</td>\n",
              "      <td>-0.195610</td>\n",
              "      <td>-0.242463</td>\n",
              "      <td>0.046667</td>\n",
              "      <td>-0.450821</td>\n",
              "      <td>-0.16537</td>\n",
              "      <td>-0.292684</td>\n",
              "      <td>-0.193154</td>\n",
              "      <td>-0.144181</td>\n",
              "    </tr>\n",
              "    <tr>\n",
              "      <th>3</th>\n",
              "      <td>-0.312264</td>\n",
              "      <td>-0.270308</td>\n",
              "      <td>-0.210312</td>\n",
              "      <td>-0.195872</td>\n",
              "      <td>-0.201095</td>\n",
              "      <td>-0.164567</td>\n",
              "      <td>-0.158347</td>\n",
              "      <td>-0.215335</td>\n",
              "      <td>-0.159684</td>\n",
              "      <td>-0.161096</td>\n",
              "      <td>...</td>\n",
              "      <td>1.862901</td>\n",
              "      <td>-0.350613</td>\n",
              "      <td>-0.195610</td>\n",
              "      <td>-0.242463</td>\n",
              "      <td>0.394799</td>\n",
              "      <td>-0.450821</td>\n",
              "      <td>-0.16537</td>\n",
              "      <td>-0.292684</td>\n",
              "      <td>-0.193154</td>\n",
              "      <td>-0.144181</td>\n",
              "    </tr>\n",
              "    <tr>\n",
              "      <th>4</th>\n",
              "      <td>-0.312264</td>\n",
              "      <td>-0.270308</td>\n",
              "      <td>-0.210312</td>\n",
              "      <td>-0.195872</td>\n",
              "      <td>-0.201095</td>\n",
              "      <td>-0.164567</td>\n",
              "      <td>-0.158347</td>\n",
              "      <td>-0.215335</td>\n",
              "      <td>-0.159684</td>\n",
              "      <td>-0.161096</td>\n",
              "      <td>...</td>\n",
              "      <td>-0.276717</td>\n",
              "      <td>1.534471</td>\n",
              "      <td>-0.195610</td>\n",
              "      <td>-0.242463</td>\n",
              "      <td>-0.512032</td>\n",
              "      <td>-0.450821</td>\n",
              "      <td>-0.16537</td>\n",
              "      <td>-0.292684</td>\n",
              "      <td>3.021840</td>\n",
              "      <td>-0.144181</td>\n",
              "    </tr>\n",
              "    <tr>\n",
              "      <th>...</th>\n",
              "      <td>...</td>\n",
              "      <td>...</td>\n",
              "      <td>...</td>\n",
              "      <td>...</td>\n",
              "      <td>...</td>\n",
              "      <td>...</td>\n",
              "      <td>...</td>\n",
              "      <td>...</td>\n",
              "      <td>...</td>\n",
              "      <td>...</td>\n",
              "      <td>...</td>\n",
              "      <td>...</td>\n",
              "      <td>...</td>\n",
              "      <td>...</td>\n",
              "      <td>...</td>\n",
              "      <td>...</td>\n",
              "      <td>...</td>\n",
              "      <td>...</td>\n",
              "      <td>...</td>\n",
              "      <td>...</td>\n",
              "      <td>...</td>\n",
              "    </tr>\n",
              "    <tr>\n",
              "      <th>44893</th>\n",
              "      <td>1.721993</td>\n",
              "      <td>-0.270308</td>\n",
              "      <td>-0.210312</td>\n",
              "      <td>1.563734</td>\n",
              "      <td>1.822955</td>\n",
              "      <td>-0.164567</td>\n",
              "      <td>-0.158347</td>\n",
              "      <td>1.660926</td>\n",
              "      <td>2.313051</td>\n",
              "      <td>-0.161096</td>\n",
              "      <td>...</td>\n",
              "      <td>-0.276717</td>\n",
              "      <td>-0.350613</td>\n",
              "      <td>-0.195610</td>\n",
              "      <td>-0.242463</td>\n",
              "      <td>0.218143</td>\n",
              "      <td>0.549263</td>\n",
              "      <td>-0.16537</td>\n",
              "      <td>-0.292684</td>\n",
              "      <td>-0.193154</td>\n",
              "      <td>-0.144181</td>\n",
              "    </tr>\n",
              "    <tr>\n",
              "      <th>44894</th>\n",
              "      <td>-0.312264</td>\n",
              "      <td>-0.270308</td>\n",
              "      <td>-0.210312</td>\n",
              "      <td>-0.195872</td>\n",
              "      <td>-0.201095</td>\n",
              "      <td>-0.164567</td>\n",
              "      <td>-0.158347</td>\n",
              "      <td>-0.215335</td>\n",
              "      <td>-0.159684</td>\n",
              "      <td>-0.161096</td>\n",
              "      <td>...</td>\n",
              "      <td>-0.276717</td>\n",
              "      <td>-0.350613</td>\n",
              "      <td>-0.195610</td>\n",
              "      <td>-0.242463</td>\n",
              "      <td>3.439467</td>\n",
              "      <td>-0.450821</td>\n",
              "      <td>-0.16537</td>\n",
              "      <td>-0.292684</td>\n",
              "      <td>-0.193154</td>\n",
              "      <td>-0.144181</td>\n",
              "    </tr>\n",
              "    <tr>\n",
              "      <th>44895</th>\n",
              "      <td>-0.312264</td>\n",
              "      <td>-0.270308</td>\n",
              "      <td>-0.210312</td>\n",
              "      <td>-0.195872</td>\n",
              "      <td>-0.201095</td>\n",
              "      <td>-0.164567</td>\n",
              "      <td>-0.158347</td>\n",
              "      <td>-0.215335</td>\n",
              "      <td>-0.159684</td>\n",
              "      <td>-0.161096</td>\n",
              "      <td>...</td>\n",
              "      <td>-0.276717</td>\n",
              "      <td>-0.350613</td>\n",
              "      <td>-0.195610</td>\n",
              "      <td>-0.242463</td>\n",
              "      <td>1.236493</td>\n",
              "      <td>4.338909</td>\n",
              "      <td>-0.16537</td>\n",
              "      <td>-0.292684</td>\n",
              "      <td>-0.193154</td>\n",
              "      <td>-0.144181</td>\n",
              "    </tr>\n",
              "    <tr>\n",
              "      <th>44896</th>\n",
              "      <td>-0.312264</td>\n",
              "      <td>-0.270308</td>\n",
              "      <td>-0.210312</td>\n",
              "      <td>-0.195872</td>\n",
              "      <td>-0.201095</td>\n",
              "      <td>-0.164567</td>\n",
              "      <td>-0.158347</td>\n",
              "      <td>-0.215335</td>\n",
              "      <td>-0.159684</td>\n",
              "      <td>-0.161096</td>\n",
              "      <td>...</td>\n",
              "      <td>-0.276717</td>\n",
              "      <td>4.323972</td>\n",
              "      <td>-0.195610</td>\n",
              "      <td>-0.242463</td>\n",
              "      <td>1.124464</td>\n",
              "      <td>-0.450821</td>\n",
              "      <td>-0.16537</td>\n",
              "      <td>-0.292684</td>\n",
              "      <td>-0.193154</td>\n",
              "      <td>-0.144181</td>\n",
              "    </tr>\n",
              "    <tr>\n",
              "      <th>44897</th>\n",
              "      <td>-0.312264</td>\n",
              "      <td>-0.270308</td>\n",
              "      <td>-0.210312</td>\n",
              "      <td>4.177268</td>\n",
              "      <td>-0.201095</td>\n",
              "      <td>-0.164567</td>\n",
              "      <td>5.927684</td>\n",
              "      <td>-0.215335</td>\n",
              "      <td>-0.159684</td>\n",
              "      <td>-0.161096</td>\n",
              "      <td>...</td>\n",
              "      <td>-0.276717</td>\n",
              "      <td>-0.350613</td>\n",
              "      <td>-0.195610</td>\n",
              "      <td>-0.242463</td>\n",
              "      <td>-0.512032</td>\n",
              "      <td>2.034683</td>\n",
              "      <td>-0.16537</td>\n",
              "      <td>-0.292684</td>\n",
              "      <td>-0.193154</td>\n",
              "      <td>-0.144181</td>\n",
              "    </tr>\n",
              "  </tbody>\n",
              "</table>\n",
              "<p>44898 rows × 1000 columns</p>\n",
              "</div>\n",
              "      <button class=\"colab-df-convert\" onclick=\"convertToInteractive('df-4b6cfb48-8fd6-4fc4-adc2-0fb43b520972')\"\n",
              "              title=\"Convert this dataframe to an interactive table.\"\n",
              "              style=\"display:none;\">\n",
              "        \n",
              "  <svg xmlns=\"http://www.w3.org/2000/svg\" height=\"24px\"viewBox=\"0 0 24 24\"\n",
              "       width=\"24px\">\n",
              "    <path d=\"M0 0h24v24H0V0z\" fill=\"none\"/>\n",
              "    <path d=\"M18.56 5.44l.94 2.06.94-2.06 2.06-.94-2.06-.94-.94-2.06-.94 2.06-2.06.94zm-11 1L8.5 8.5l.94-2.06 2.06-.94-2.06-.94L8.5 2.5l-.94 2.06-2.06.94zm10 10l.94 2.06.94-2.06 2.06-.94-2.06-.94-.94-2.06-.94 2.06-2.06.94z\"/><path d=\"M17.41 7.96l-1.37-1.37c-.4-.4-.92-.59-1.43-.59-.52 0-1.04.2-1.43.59L10.3 9.45l-7.72 7.72c-.78.78-.78 2.05 0 2.83L4 21.41c.39.39.9.59 1.41.59.51 0 1.02-.2 1.41-.59l7.78-7.78 2.81-2.81c.8-.78.8-2.07 0-2.86zM5.41 20L4 18.59l7.72-7.72 1.47 1.35L5.41 20z\"/>\n",
              "  </svg>\n",
              "      </button>\n",
              "      \n",
              "  <style>\n",
              "    .colab-df-container {\n",
              "      display:flex;\n",
              "      flex-wrap:wrap;\n",
              "      gap: 12px;\n",
              "    }\n",
              "\n",
              "    .colab-df-convert {\n",
              "      background-color: #E8F0FE;\n",
              "      border: none;\n",
              "      border-radius: 50%;\n",
              "      cursor: pointer;\n",
              "      display: none;\n",
              "      fill: #1967D2;\n",
              "      height: 32px;\n",
              "      padding: 0 0 0 0;\n",
              "      width: 32px;\n",
              "    }\n",
              "\n",
              "    .colab-df-convert:hover {\n",
              "      background-color: #E2EBFA;\n",
              "      box-shadow: 0px 1px 2px rgba(60, 64, 67, 0.3), 0px 1px 3px 1px rgba(60, 64, 67, 0.15);\n",
              "      fill: #174EA6;\n",
              "    }\n",
              "\n",
              "    [theme=dark] .colab-df-convert {\n",
              "      background-color: #3B4455;\n",
              "      fill: #D2E3FC;\n",
              "    }\n",
              "\n",
              "    [theme=dark] .colab-df-convert:hover {\n",
              "      background-color: #434B5C;\n",
              "      box-shadow: 0px 1px 3px 1px rgba(0, 0, 0, 0.15);\n",
              "      filter: drop-shadow(0px 1px 2px rgba(0, 0, 0, 0.3));\n",
              "      fill: #FFFFFF;\n",
              "    }\n",
              "  </style>\n",
              "\n",
              "      <script>\n",
              "        const buttonEl =\n",
              "          document.querySelector('#df-4b6cfb48-8fd6-4fc4-adc2-0fb43b520972 button.colab-df-convert');\n",
              "        buttonEl.style.display =\n",
              "          google.colab.kernel.accessAllowed ? 'block' : 'none';\n",
              "\n",
              "        async function convertToInteractive(key) {\n",
              "          const element = document.querySelector('#df-4b6cfb48-8fd6-4fc4-adc2-0fb43b520972');\n",
              "          const dataTable =\n",
              "            await google.colab.kernel.invokeFunction('convertToInteractive',\n",
              "                                                     [key], {});\n",
              "          if (!dataTable) return;\n",
              "\n",
              "          const docLinkHtml = 'Like what you see? Visit the ' +\n",
              "            '<a target=\"_blank\" href=https://colab.research.google.com/notebooks/data_table.ipynb>data table notebook</a>'\n",
              "            + ' to learn more about interactive tables.';\n",
              "          element.innerHTML = '';\n",
              "          dataTable['output_type'] = 'display_data';\n",
              "          await google.colab.output.renderOutput(dataTable, element);\n",
              "          const docLink = document.createElement('div');\n",
              "          docLink.innerHTML = docLinkHtml;\n",
              "          element.appendChild(docLink);\n",
              "        }\n",
              "      </script>\n",
              "    </div>\n",
              "  </div>\n",
              "  "
            ]
          },
          "metadata": {},
          "execution_count": 5
        }
      ]
    },
    {
      "cell_type": "code",
      "source": [
        "#k-means\n",
        "model = KMeans(n_clusters=2,random_state=0)\n",
        "lables = model.fit_predict(x_scaled)\n",
        "centers = model.cluster_centers_\n",
        "\n"
      ],
      "metadata": {
        "id": "ol0FgQZoD1sr"
      },
      "execution_count": null,
      "outputs": []
    },
    {
      "cell_type": "code",
      "source": [
        "len(lables)"
      ],
      "metadata": {
        "colab": {
          "base_uri": "https://localhost:8080/"
        },
        "id": "ZxnFmM5ulWhw",
        "outputId": "57d2ac1b-4787-4a4e-c114-20c571bd48e6"
      },
      "execution_count": null,
      "outputs": [
        {
          "output_type": "execute_result",
          "data": {
            "text/plain": [
              "44898"
            ]
          },
          "metadata": {},
          "execution_count": 7
        }
      ]
    },
    {
      "cell_type": "markdown",
      "source": [
        "## 3. Visualize using scatter plot (15 points)\n",
        "The data is high dimensional, so for visualization purpose, we will perform a dimensionality reduction using PCA.\n",
        "\n",
        "* Apply PCA\n",
        "*   Visualize the clustering in 2d using first two PCs.\n",
        "*   Visualize the clustering in 3d using first three PCs.\n",
        "\n",
        "Notes:\n",
        "\n",
        "*   In clustering visualization it's important to also visualize the centroids.\n",
        "* Visualize using matplotlib scatter function. It can be used to plot 2D or 3D scatter plots.\n",
        "* Color the points according to the true labels."
      ],
      "metadata": {
        "id": "d4hK3vpTtRTT"
      }
    },
    {
      "cell_type": "code",
      "source": [
        "#pca with 2 components\n",
        "pca = PCA(n_components=2)\n",
        "pca_2d = pca.fit_transform(x_scaled)\n",
        "t = df[\"label\"].to_numpy()\n",
        "xs = pca_2d[:,0]\n",
        "ys = pca_2d[:,1]\n",
        "ones = np.where(t==1) # index where the label is 1\n",
        "zero = np.where(t==0) # # index where the label is 0"
      ],
      "metadata": {
        "id": "DUhtdsvGtlJu"
      },
      "execution_count": null,
      "outputs": []
    },
    {
      "cell_type": "code",
      "source": [
        "def plot_2d(zero,ones):\n",
        "  plt.scatter(xs[ones],ys[ones],c='green')\n",
        "  plt.scatter(xs[zero],ys[zero],c='black') # change shape\n",
        "  plt.scatter(\n",
        "      centers[:, 0],\n",
        "      centers[:, 1],\n",
        "      marker=\"o\",\n",
        "      c=\"white\",\n",
        "      alpha=1,\n",
        "      s=200,\n",
        "      edgecolor=\"k\",\n",
        "  )\n",
        "  plt.show()\n",
        "plot_2d(zero,ones)"
      ],
      "metadata": {
        "colab": {
          "base_uri": "https://localhost:8080/",
          "height": 347
        },
        "id": "iXCauKdf-Kr1",
        "outputId": "7d718789-1d5c-4cc2-feba-27c374f49183"
      },
      "execution_count": null,
      "outputs": [
        {
          "output_type": "display_data",
          "data": {
            "text/plain": [
              "<Figure size 576x396 with 1 Axes>"
            ],
            "image/png": "[encoded data removed]"
          },
          "metadata": {}
        }
      ]
    },
    {
      "cell_type": "code",
      "source": [
        "pca = PCA(n_components=3)\n",
        "pca_3d = pca.fit_transform(x_scaled)\n",
        "t = df[\"label\"].to_numpy()\n",
        "xs = pca_3d[:,0]\n",
        "ys = pca_3d[:,1]\n",
        "zs = pca_3d[:,2]\n",
        "ones = np.where(t==1) # index where the label is 1\n",
        "zero = np.where(t==0) # # index where the label is 0\n"
      ],
      "metadata": {
        "id": "p9mYHnEtiLfu"
      },
      "execution_count": null,
      "outputs": []
    },
    {
      "cell_type": "code",
      "source": [
        "pca_3d"
      ],
      "metadata": {
        "colab": {
          "base_uri": "https://localhost:8080/"
        },
        "id": "1XvaGcUJivGp",
        "outputId": "4e08057d-4fd9-40ba-a04d-fe4abdebde84"
      },
      "execution_count": null,
      "outputs": [
        {
          "output_type": "execute_result",
          "data": {
            "text/plain": [
              "array([[ 3.66433637, -0.76051445, -0.42634082],\n",
              "       [ 2.0597636 ,  3.01968384, -2.72808612],\n",
              "       [ 3.37562872, -2.72166681, -2.02131401],\n",
              "       ...,\n",
              "       [-0.75537214, -0.03269885,  3.86160304],\n",
              "       [-4.02941219, -1.83214197, -3.26508343],\n",
              "       [-4.98155343, -0.02459303, -0.29920816]])"
            ]
          },
          "metadata": {},
          "execution_count": 11
        }
      ]
    },
    {
      "cell_type": "code",
      "source": [
        "def plot_3d(zero,ones):\n",
        "  ax = plt.axes(projection='3d')\n",
        "  ax.scatter3D(xs[ones], ys[ones], zs[ones], cmap='Greens')\n",
        "  ax.scatter3D(xs[zero], ys[zero], zs[zero], cmap='Black')\n",
        "  ax.scatter(\n",
        "      centers[:, 0],\n",
        "      centers[:, 1],\n",
        "      marker=\"o\",\n",
        "      c=\"black\",\n",
        "      alpha=1,\n",
        "      s=200,\n",
        "      edgecolor=\"k\",\n",
        "  )\n",
        "  plt.show()\n",
        "plot_3d(zero,ones)"
      ],
      "metadata": {
        "colab": {
          "base_uri": "https://localhost:8080/",
          "height": 330
        },
        "id": "3jcCysNgikiX",
        "outputId": "6555a656-fe12-4c98-b6db-301cd0597421"
      },
      "execution_count": null,
      "outputs": [
        {
          "output_type": "display_data",
          "data": {
            "text/plain": [
              "<Figure size 576x396 with 1 Axes>"
            ],
            "image/png": "[encoded data removed]"
          },
          "metadata": {}
        }
      ]
    },
    {
      "cell_type": "markdown",
      "source": [
        "## 4. Performance evaluation (15 points)\n",
        "### How did our clustering perform against the real labels?\n",
        "\n",
        "We do have the true lables (fake/real), but we don't know which cluster correspond to which label. Therefore, we check the two options:\n",
        "\n",
        "*   Define cluster 1 as fake and cluster 2 as real. What is the accuracy?\n",
        "*   Define cluster 1 as true and cluster 2 as fake. What is the accuracy?"
      ],
      "metadata": {
        "id": "ELEMd4WFFTwS"
      }
    },
    {
      "cell_type": "code",
      "source": [
        "count_true1 = 0\n",
        "for i in range(len(lables)):\n",
        "  if true_label[i] == lables[i]:\n",
        "    count_true1 += 1\n",
        "Accuracy1  =    count_true1/ len(true_label)\n",
        "\n",
        "count_true2 = 0\n",
        "for i in range(len(lables)):\n",
        "  if true_label[i] != lables[i]:\n",
        "    count_true2 += 1\n",
        "Accuracy2  =    count_true2/ len(true_label)"
      ],
      "metadata": {
        "id": "hVVyjDIoJKeu"
      },
      "execution_count": null,
      "outputs": []
    },
    {
      "cell_type": "code",
      "source": [
        "Accuracy1\n"
      ],
      "metadata": {
        "id": "1DaN77HxXxAj",
        "outputId": "b0289321-d930-446e-cd59-795d0f53baaa",
        "colab": {
          "base_uri": "https://localhost:8080/"
        }
      },
      "execution_count": null,
      "outputs": [
        {
          "output_type": "execute_result",
          "data": {
            "text/plain": [
              "0.1285580649472137"
            ]
          },
          "metadata": {},
          "execution_count": 16
        }
      ]
    },
    {
      "cell_type": "code",
      "source": [
        "Accuracy2"
      ],
      "metadata": {
        "id": "L3dOFSpNX8tw",
        "outputId": "a968d36d-a77a-4ec4-a55b-205285f74f03",
        "colab": {
          "base_uri": "https://localhost:8080/"
        }
      },
      "execution_count": null,
      "outputs": [
        {
          "output_type": "execute_result",
          "data": {
            "text/plain": [
              "0.8714419350527863"
            ]
          },
          "metadata": {},
          "execution_count": 17
        }
      ]
    },
    {
      "cell_type": "code",
      "source": [
        "len(x_scaled[:300])"
      ],
      "metadata": {
        "colab": {
          "base_uri": "https://localhost:8080/"
        },
        "id": "Ze1RrDxN3_Mv",
        "outputId": "10ad1691-6723-4963-aab6-944157203fb8"
      },
      "execution_count": null,
      "outputs": [
        {
          "output_type": "execute_result",
          "data": {
            "text/plain": [
              "300"
            ]
          },
          "metadata": {},
          "execution_count": 15
        }
      ]
    },
    {
      "cell_type": "markdown",
      "source": [
        "## 5. Find optimal `k` (10 points)\n",
        "What is the best k for clustering?\n",
        "\n",
        "* Cluster using a range of `k` (up to 20) and compare the SSD and the Silhouette values for every k.\n",
        "* Plot SSD vs. k and Silhouette score vs. k.\n",
        "\n",
        "Notes:\n",
        "* You can get the SSD of a clustering using the `inertia_` attribute of the model.\n",
        "* Silhouette score using `silhouette_score` function from `sklearn.metrics`. This function accept the model and the data.\n",
        "* Computing Silhouette may takes long time. Estimate the Silhouette using a sample of 300 samples uisng the argument `sample_size=300`."
      ],
      "metadata": {
        "id": "Go3Jx05Wcsr4"
      }
    },
    {
      "cell_type": "code",
      "source": [
        "ssd = []\n",
        "silhouette_avg = []\n",
        "x_scaled = x_scaled[:300]\n",
        "for i in range(2,20):\n",
        "  model = KMeans(n_clusters=i,random_state=0)\n",
        "  lables = model.fit_predict(x_scaled)\n",
        "  ssd.append((model.inertia_,i))\n",
        "  silhouette_avg.append((silhouette_score(x_scaled, lables),i))\n",
        "\n",
        "\n"
      ],
      "metadata": {
        "id": "DvGLxRHGWPop"
      },
      "execution_count": null,
      "outputs": []
    },
    {
      "cell_type": "code",
      "source": [
        "ssd"
      ],
      "metadata": {
        "colab": {
          "base_uri": "https://localhost:8080/"
        },
        "id": "Qo3PCXswzCa1",
        "outputId": "4aff2fd6-d903-414b-800a-b43050a170f3"
      },
      "execution_count": null,
      "outputs": [
        {
          "output_type": "execute_result",
          "data": {
            "text/plain": [
              "[(291676.6895657836, 2),\n",
              " (287063.9725299197, 3),\n",
              " (280811.15357957606, 4),\n",
              " (279679.0549577356, 5),\n",
              " (276212.6481648974, 6),\n",
              " (274529.9006821759, 7),\n",
              " (272780.19755967916, 8),\n",
              " (269730.62345683464, 9),\n",
              " (268740.3876101279, 10),\n",
              " (266338.8707535787, 11),\n",
              " (265908.69135626504, 12),\n",
              " (263744.1232596317, 13),\n",
              " (262985.3665585413, 14),\n",
              " (260652.7844358805, 15),\n",
              " (259038.73122000636, 16),\n",
              " (258218.8502746892, 17),\n",
              " (256279.1650010993, 18),\n",
              " (254469.9635238344, 19)]"
            ]
          },
          "metadata": {},
          "execution_count": 50
        }
      ]
    },
    {
      "cell_type": "code",
      "source": [
        "silhouette_avg"
      ],
      "metadata": {
        "colab": {
          "base_uri": "https://localhost:8080/"
        },
        "id": "b7Gw7dEC-pxI",
        "outputId": "ce797110-fd98-4968-cd68-79174cd085b6"
      },
      "execution_count": null,
      "outputs": [
        {
          "output_type": "execute_result",
          "data": {
            "text/plain": [
              "[(0.004134846220096048, 2),\n",
              " (0.009796590248033775, 3),\n",
              " (0.008222726489734733, 4),\n",
              " (0.008236574284253612, 5),\n",
              " (0.002959015396662504, 6),\n",
              " (0.008944545830153418, 7),\n",
              " (0.0032803992960369, 8),\n",
              " (0.005630106869226301, 9),\n",
              " (0.012434373027602547, 10),\n",
              " (0.015619212763624742, 11),\n",
              " (0.015859625543445874, 12),\n",
              " (0.016350792863964198, 13),\n",
              " (0.015720411188321237, 14),\n",
              " (0.016268651237719145, 15),\n",
              " (0.013797502563593118, 16),\n",
              " (0.00976772674480518, 17),\n",
              " (0.012725684840362147, 18),\n",
              " (0.011061818932584117, 19)]"
            ]
          },
          "metadata": {},
          "execution_count": 60
        }
      ]
    },
    {
      "cell_type": "code",
      "source": [
        "silhouette_avg"
      ],
      "metadata": {
        "colab": {
          "base_uri": "https://localhost:8080/"
        },
        "id": "xUAnxnjrzERc",
        "outputId": "44e4a9a0-d892-4a38-f517-56647e733974"
      },
      "execution_count": null,
      "outputs": [
        {
          "output_type": "execute_result",
          "data": {
            "text/plain": [
              "[(0.004134846220096048, 2),\n",
              " (0.009796590248033775, 3),\n",
              " (0.008222726489734733, 4),\n",
              " (0.008236574284253612, 5),\n",
              " (0.002959015396662504, 6),\n",
              " (0.008944545830153418, 7),\n",
              " (0.0032803992960369, 8),\n",
              " (0.005630106869226301, 9),\n",
              " (0.012434373027602547, 10),\n",
              " (0.015619212763624742, 11),\n",
              " (0.015859625543445874, 12),\n",
              " (0.016350792863964198, 13),\n",
              " (0.015720411188321237, 14),\n",
              " (0.016268651237719145, 15),\n",
              " (0.013797502563593118, 16),\n",
              " (0.00976772674480518, 17),\n",
              " (0.012725684840362147, 18),\n",
              " (0.011061818932584117, 19)]"
            ]
          },
          "metadata": {},
          "execution_count": 51
        }
      ]
    },
    {
      "cell_type": "code",
      "source": [
        "visualizer = KElbowVisualizer(model, k=(2,20))\n",
        "\n",
        "visualizer.fit(x_scaled)        # Fit the data to the visualizer\n",
        "visualizer.show()        # Finalize and render the figure"
      ],
      "metadata": {
        "colab": {
          "base_uri": "https://localhost:8080/",
          "height": 393
        },
        "id": "afNzoRr08wWw",
        "outputId": "8f17b241-8afe-48e7-89f8-0ef2eab13652"
      },
      "execution_count": null,
      "outputs": [
        {
          "output_type": "display_data",
          "data": {
            "text/plain": [
              "<Figure size 576x396 with 2 Axes>"
            ],
            "image/png": "[encoded data removed]"
          },
          "metadata": {}
        },
        {
          "output_type": "execute_result",
          "data": {
            "text/plain": [
              "<matplotlib.axes._subplots.AxesSubplot at 0x7ff02940be90>"
            ]
          },
          "metadata": {},
          "execution_count": 58
        }
      ]
    },
    {
      "cell_type": "code",
      "source": [
        "ssd"
      ],
      "metadata": {
        "colab": {
          "base_uri": "https://localhost:8080/"
        },
        "id": "WRwXausX-NdS",
        "outputId": "913bb357-da87-409b-a8d0-00865cc6d248"
      },
      "execution_count": null,
      "outputs": [
        {
          "output_type": "execute_result",
          "data": {
            "text/plain": [
              "[(291676.6895657836, 2),\n",
              " (287063.9725299197, 3),\n",
              " (280811.15357957606, 4),\n",
              " (279679.0549577356, 5),\n",
              " (276212.6481648974, 6),\n",
              " (274529.9006821759, 7),\n",
              " (272780.19755967916, 8),\n",
              " (269730.62345683464, 9),\n",
              " (268740.3876101279, 10),\n",
              " (266338.8707535787, 11),\n",
              " (265908.69135626504, 12),\n",
              " (263744.1232596317, 13),\n",
              " (262985.3665585413, 14),\n",
              " (260652.7844358805, 15),\n",
              " (259038.73122000636, 16),\n",
              " (258218.8502746892, 17),\n",
              " (256279.1650010993, 18),\n",
              " (254469.9635238344, 19)]"
            ]
          },
          "metadata": {},
          "execution_count": 59
        }
      ]
    },
    {
      "cell_type": "code",
      "source": [
        "# the optimal k is 11 and the ssd is 266338.8707535787"
      ],
      "metadata": {
        "id": "EcBm0DMX-Yl7"
      },
      "execution_count": null,
      "outputs": []
    },
    {
      "cell_type": "markdown",
      "source": [
        "### 6. What is the optimal k for clustering? (10 points)\n",
        "\n",
        "* Explain.\n",
        "* If optimal k!=2 what can be a good explanation for this?"
      ],
      "metadata": {
        "id": "7WcPTIareSCz"
      }
    },
    {
      "cell_type": "markdown",
      "source": [
        "Your answer here"
      ],
      "metadata": {
        "id": "k3s2biB6uyVg"
      }
    },
    {
      "cell_type": "markdown",
      "source": [
        "the optimal k is 11 and the ssd is 266338.8707535787\n",
        "\n",
        "why k!=2?"
      ],
      "metadata": {
        "id": "9p8MJWUk_b34"
      }
    },
    {
      "cell_type": "markdown",
      "source": [
        "# 7. PCA then k-means (10 points)\n",
        "\n",
        "1.   List item\n",
        "2.   List item\n",
        "\n",
        "\n",
        "This time, lets try to change the order.\n",
        "1. Generate TF-IDF 1000 features\n",
        "2. Run PCA (using all dimenssions)\n",
        "3. Run k-means\n",
        "4. Plot 2D and 3D scatter plots\n",
        "5. Estimate the accuracy according to true labels.\n",
        "6. Explain how is it compared to the previous approach, where clustering is performed w/o PCA.\n",
        "\n",
        "Note:\n",
        "* When you compute the PCA, don't limit to first PCs, but use all of them."
      ],
      "metadata": {
        "id": "g1Cuo2LNR3R-"
      }
    },
    {
      "cell_type": "code",
      "source": [
        "tfidf = TfidfVectorizer(stop_words='english',max_features=1000)\n",
        "fiting = tfidf.fit_transform(df['text'])\n",
        "Scaler = preprocessing.StandardScaler()\n",
        "x_scaledd = Scaler.fit_transform(fiting.toarray())\n",
        "\n",
        "df_tfidf2 = pd.DataFrame(x_scaled, columns=tfidf.get_feature_names())\n",
        "\n",
        "df_tfidf2"
      ],
      "metadata": {
        "id": "NJf98Fx9WCce",
        "colab": {
          "base_uri": "https://localhost:8080/",
          "height": 522
        },
        "outputId": "f8a2a373-8cf1-4b81-bb9d-1f99af85b2bd"
      },
      "execution_count": null,
      "outputs": [
        {
          "output_type": "stream",
          "name": "stderr",
          "text": [
            "/usr/local/lib/python3.7/dist-packages/sklearn/utils/deprecation.py:87: FutureWarning: Function get_feature_names is deprecated; get_feature_names is deprecated in 1.0 and will be removed in 1.2. Please use get_feature_names_out instead.\n",
            "  warnings.warn(msg, category=FutureWarning)\n"
          ]
        },
        {
          "output_type": "execute_result",
          "data": {
            "text/plain": [
              "           000        10       100        11        12        13        14  \\\n",
              "0    -0.312264 -0.270308 -0.210312  1.459728 -0.201095 -0.164567 -0.158347   \n",
              "1    -0.312264 -0.270308 -0.210312 -0.195872 -0.201095 -0.164567 -0.158347   \n",
              "2    -0.312264 -0.270308 -0.210312 -0.195872 -0.201095 -0.164567 -0.158347   \n",
              "3    -0.312264 -0.270308 -0.210312 -0.195872 -0.201095 -0.164567 -0.158347   \n",
              "4    -0.312264 -0.270308 -0.210312 -0.195872 -0.201095 -0.164567 -0.158347   \n",
              "..         ...       ...       ...       ...       ...       ...       ...   \n",
              "295  -0.312264  1.469054 -0.210312 -0.195872 -0.201095 -0.164567 -0.158347   \n",
              "296  10.436842 -0.270308 -0.210312 -0.195872 -0.201095 -0.164567 -0.158347   \n",
              "297  -0.312264 -0.270308 -0.210312 -0.195872 -0.201095 -0.164567 -0.158347   \n",
              "298  -0.312264 -0.270308 -0.210312 -0.195872 -0.201095 -0.164567 -0.158347   \n",
              "299  -0.312264  1.901857 -0.210312 -0.195872 -0.201095 -0.164567 -0.158347   \n",
              "\n",
              "           15        16        17  ...   working     world     wrong  \\\n",
              "0   -0.215335 -0.159684 -0.161096  ... -0.276717 -0.350613  2.042211   \n",
              "1   -0.215335 -0.159684 -0.161096  ... -0.276717  1.735007 -0.195610   \n",
              "2   -0.215335 -0.159684 -0.161096  ... -0.276717 -0.350613 -0.195610   \n",
              "3   -0.215335 -0.159684 -0.161096  ...  1.862901 -0.350613 -0.195610   \n",
              "4   -0.215335 -0.159684 -0.161096  ... -0.276717  1.534471 -0.195610   \n",
              "..        ...       ...       ...  ...       ...       ...       ...   \n",
              "295 -0.215335 -0.159684 -0.161096  ... -0.276717 -0.350613 -0.195610   \n",
              "296 -0.215335 -0.159684 -0.161096  ... -0.276717 -0.350613 -0.195610   \n",
              "297 -0.215335 -0.159684 -0.161096  ... -0.276717 -0.350613 -0.195610   \n",
              "298 -0.215335 -0.159684 -0.161096  ... -0.276717 -0.350613 -0.195610   \n",
              "299 -0.215335 -0.159684 -0.161096  ... -0.276717 -0.350613  3.111494   \n",
              "\n",
              "        wrote      year     years      yes      york     young   youtube  \n",
              "0   -0.242463  9.793219  2.372095 -0.16537 -0.292684 -0.193154 -0.144181  \n",
              "1   -0.242463 -0.512032 -0.450821 -0.16537  4.495332 -0.193154 -0.144181  \n",
              "2   -0.242463  0.046667 -0.450821 -0.16537 -0.292684 -0.193154 -0.144181  \n",
              "3   -0.242463  0.394799 -0.450821 -0.16537 -0.292684 -0.193154 -0.144181  \n",
              "4   -0.242463 -0.512032 -0.450821 -0.16537 -0.292684  3.021840 -0.144181  \n",
              "..        ...       ...       ...      ...       ...       ...       ...  \n",
              "295 -0.242463 -0.512032  0.662694 -0.16537 -0.292684  1.787163 -0.144181  \n",
              "296 -0.242463  0.259624 -0.450821 -0.16537 -0.292684 -0.193154 -0.144181  \n",
              "297  1.334314 -0.512032  0.403784 -0.16537 -0.292684 -0.193154 -0.144181  \n",
              "298 -0.242463 -0.512032 -0.450821 -0.16537 -0.292684 -0.193154 -0.144181  \n",
              "299 -0.242463 -0.512032  0.939769 -0.16537 -0.292684 -0.193154 -0.144181  \n",
              "\n",
              "[300 rows x 1000 columns]"
            ],
            "text/html": [
              "\n",
              "  <div id=\"df-11dda851-f56e-4c7d-be8a-4c8a4be37373\">\n",
              "    <div class=\"colab-df-container\">\n",
              "      <div>\n",
              "<style scoped>\n",
              "    .dataframe tbody tr th:only-of-type {\n",
              "        vertical-align: middle;\n",
              "    }\n",
              "\n",
              "    .dataframe tbody tr th {\n",
              "        vertical-align: top;\n",
              "    }\n",
              "\n",
              "    .dataframe thead th {\n",
              "        text-align: right;\n",
              "    }\n",
              "</style>\n",
              "<table border=\"1\" class=\"dataframe\">\n",
              "  <thead>\n",
              "    <tr style=\"text-align: right;\">\n",
              "      <th></th>\n",
              "      <th>000</th>\n",
              "      <th>10</th>\n",
              "      <th>100</th>\n",
              "      <th>11</th>\n",
              "      <th>12</th>\n",
              "      <th>13</th>\n",
              "      <th>14</th>\n",
              "      <th>15</th>\n",
              "      <th>16</th>\n",
              "      <th>17</th>\n",
              "      <th>...</th>\n",
              "      <th>working</th>\n",
              "      <th>world</th>\n",
              "      <th>wrong</th>\n",
              "      <th>wrote</th>\n",
              "      <th>year</th>\n",
              "      <th>years</th>\n",
              "      <th>yes</th>\n",
              "      <th>york</th>\n",
              "      <th>young</th>\n",
              "      <th>youtube</th>\n",
              "    </tr>\n",
              "  </thead>\n",
              "  <tbody>\n",
              "    <tr>\n",
              "      <th>0</th>\n",
              "      <td>-0.312264</td>\n",
              "      <td>-0.270308</td>\n",
              "      <td>-0.210312</td>\n",
              "      <td>1.459728</td>\n",
              "      <td>-0.201095</td>\n",
              "      <td>-0.164567</td>\n",
              "      <td>-0.158347</td>\n",
              "      <td>-0.215335</td>\n",
              "      <td>-0.159684</td>\n",
              "      <td>-0.161096</td>\n",
              "      <td>...</td>\n",
              "      <td>-0.276717</td>\n",
              "      <td>-0.350613</td>\n",
              "      <td>2.042211</td>\n",
              "      <td>-0.242463</td>\n",
              "      <td>9.793219</td>\n",
              "      <td>2.372095</td>\n",
              "      <td>-0.16537</td>\n",
              "      <td>-0.292684</td>\n",
              "      <td>-0.193154</td>\n",
              "      <td>-0.144181</td>\n",
              "    </tr>\n",
              "    <tr>\n",
              "      <th>1</th>\n",
              "      <td>-0.312264</td>\n",
              "      <td>-0.270308</td>\n",
              "      <td>-0.210312</td>\n",
              "      <td>-0.195872</td>\n",
              "      <td>-0.201095</td>\n",
              "      <td>-0.164567</td>\n",
              "      <td>-0.158347</td>\n",
              "      <td>-0.215335</td>\n",
              "      <td>-0.159684</td>\n",
              "      <td>-0.161096</td>\n",
              "      <td>...</td>\n",
              "      <td>-0.276717</td>\n",
              "      <td>1.735007</td>\n",
              "      <td>-0.195610</td>\n",
              "      <td>-0.242463</td>\n",
              "      <td>-0.512032</td>\n",
              "      <td>-0.450821</td>\n",
              "      <td>-0.16537</td>\n",
              "      <td>4.495332</td>\n",
              "      <td>-0.193154</td>\n",
              "      <td>-0.144181</td>\n",
              "    </tr>\n",
              "    <tr>\n",
              "      <th>2</th>\n",
              "      <td>-0.312264</td>\n",
              "      <td>-0.270308</td>\n",
              "      <td>-0.210312</td>\n",
              "      <td>-0.195872</td>\n",
              "      <td>-0.201095</td>\n",
              "      <td>-0.164567</td>\n",
              "      <td>-0.158347</td>\n",
              "      <td>-0.215335</td>\n",
              "      <td>-0.159684</td>\n",
              "      <td>-0.161096</td>\n",
              "      <td>...</td>\n",
              "      <td>-0.276717</td>\n",
              "      <td>-0.350613</td>\n",
              "      <td>-0.195610</td>\n",
              "      <td>-0.242463</td>\n",
              "      <td>0.046667</td>\n",
              "      <td>-0.450821</td>\n",
              "      <td>-0.16537</td>\n",
              "      <td>-0.292684</td>\n",
              "      <td>-0.193154</td>\n",
              "      <td>-0.144181</td>\n",
              "    </tr>\n",
              "    <tr>\n",
              "      <th>3</th>\n",
              "      <td>-0.312264</td>\n",
              "      <td>-0.270308</td>\n",
              "      <td>-0.210312</td>\n",
              "      <td>-0.195872</td>\n",
              "      <td>-0.201095</td>\n",
              "      <td>-0.164567</td>\n",
              "      <td>-0.158347</td>\n",
              "      <td>-0.215335</td>\n",
              "      <td>-0.159684</td>\n",
              "      <td>-0.161096</td>\n",
              "      <td>...</td>\n",
              "      <td>1.862901</td>\n",
              "      <td>-0.350613</td>\n",
              "      <td>-0.195610</td>\n",
              "      <td>-0.242463</td>\n",
              "      <td>0.394799</td>\n",
              "      <td>-0.450821</td>\n",
              "      <td>-0.16537</td>\n",
              "      <td>-0.292684</td>\n",
              "      <td>-0.193154</td>\n",
              "      <td>-0.144181</td>\n",
              "    </tr>\n",
              "    <tr>\n",
              "      <th>4</th>\n",
              "      <td>-0.312264</td>\n",
              "      <td>-0.270308</td>\n",
              "      <td>-0.210312</td>\n",
              "      <td>-0.195872</td>\n",
              "      <td>-0.201095</td>\n",
              "      <td>-0.164567</td>\n",
              "      <td>-0.158347</td>\n",
              "      <td>-0.215335</td>\n",
              "      <td>-0.159684</td>\n",
              "      <td>-0.161096</td>\n",
              "      <td>...</td>\n",
              "      <td>-0.276717</td>\n",
              "      <td>1.534471</td>\n",
              "      <td>-0.195610</td>\n",
              "      <td>-0.242463</td>\n",
              "      <td>-0.512032</td>\n",
              "      <td>-0.450821</td>\n",
              "      <td>-0.16537</td>\n",
              "      <td>-0.292684</td>\n",
              "      <td>3.021840</td>\n",
              "      <td>-0.144181</td>\n",
              "    </tr>\n",
              "    <tr>\n",
              "      <th>...</th>\n",
              "      <td>...</td>\n",
              "      <td>...</td>\n",
              "      <td>...</td>\n",
              "      <td>...</td>\n",
              "      <td>...</td>\n",
              "      <td>...</td>\n",
              "      <td>...</td>\n",
              "      <td>...</td>\n",
              "      <td>...</td>\n",
              "      <td>...</td>\n",
              "      <td>...</td>\n",
              "      <td>...</td>\n",
              "      <td>...</td>\n",
              "      <td>...</td>\n",
              "      <td>...</td>\n",
              "      <td>...</td>\n",
              "      <td>...</td>\n",
              "      <td>...</td>\n",
              "      <td>...</td>\n",
              "      <td>...</td>\n",
              "      <td>...</td>\n",
              "    </tr>\n",
              "    <tr>\n",
              "      <th>295</th>\n",
              "      <td>-0.312264</td>\n",
              "      <td>1.469054</td>\n",
              "      <td>-0.210312</td>\n",
              "      <td>-0.195872</td>\n",
              "      <td>-0.201095</td>\n",
              "      <td>-0.164567</td>\n",
              "      <td>-0.158347</td>\n",
              "      <td>-0.215335</td>\n",
              "      <td>-0.159684</td>\n",
              "      <td>-0.161096</td>\n",
              "      <td>...</td>\n",
              "      <td>-0.276717</td>\n",
              "      <td>-0.350613</td>\n",
              "      <td>-0.195610</td>\n",
              "      <td>-0.242463</td>\n",
              "      <td>-0.512032</td>\n",
              "      <td>0.662694</td>\n",
              "      <td>-0.16537</td>\n",
              "      <td>-0.292684</td>\n",
              "      <td>1.787163</td>\n",
              "      <td>-0.144181</td>\n",
              "    </tr>\n",
              "    <tr>\n",
              "      <th>296</th>\n",
              "      <td>10.436842</td>\n",
              "      <td>-0.270308</td>\n",
              "      <td>-0.210312</td>\n",
              "      <td>-0.195872</td>\n",
              "      <td>-0.201095</td>\n",
              "      <td>-0.164567</td>\n",
              "      <td>-0.158347</td>\n",
              "      <td>-0.215335</td>\n",
              "      <td>-0.159684</td>\n",
              "      <td>-0.161096</td>\n",
              "      <td>...</td>\n",
              "      <td>-0.276717</td>\n",
              "      <td>-0.350613</td>\n",
              "      <td>-0.195610</td>\n",
              "      <td>-0.242463</td>\n",
              "      <td>0.259624</td>\n",
              "      <td>-0.450821</td>\n",
              "      <td>-0.16537</td>\n",
              "      <td>-0.292684</td>\n",
              "      <td>-0.193154</td>\n",
              "      <td>-0.144181</td>\n",
              "    </tr>\n",
              "    <tr>\n",
              "      <th>297</th>\n",
              "      <td>-0.312264</td>\n",
              "      <td>-0.270308</td>\n",
              "      <td>-0.210312</td>\n",
              "      <td>-0.195872</td>\n",
              "      <td>-0.201095</td>\n",
              "      <td>-0.164567</td>\n",
              "      <td>-0.158347</td>\n",
              "      <td>-0.215335</td>\n",
              "      <td>-0.159684</td>\n",
              "      <td>-0.161096</td>\n",
              "      <td>...</td>\n",
              "      <td>-0.276717</td>\n",
              "      <td>-0.350613</td>\n",
              "      <td>-0.195610</td>\n",
              "      <td>1.334314</td>\n",
              "      <td>-0.512032</td>\n",
              "      <td>0.403784</td>\n",
              "      <td>-0.16537</td>\n",
              "      <td>-0.292684</td>\n",
              "      <td>-0.193154</td>\n",
              "      <td>-0.144181</td>\n",
              "    </tr>\n",
              "    <tr>\n",
              "      <th>298</th>\n",
              "      <td>-0.312264</td>\n",
              "      <td>-0.270308</td>\n",
              "      <td>-0.210312</td>\n",
              "      <td>-0.195872</td>\n",
              "      <td>-0.201095</td>\n",
              "      <td>-0.164567</td>\n",
              "      <td>-0.158347</td>\n",
              "      <td>-0.215335</td>\n",
              "      <td>-0.159684</td>\n",
              "      <td>-0.161096</td>\n",
              "      <td>...</td>\n",
              "      <td>-0.276717</td>\n",
              "      <td>-0.350613</td>\n",
              "      <td>-0.195610</td>\n",
              "      <td>-0.242463</td>\n",
              "      <td>-0.512032</td>\n",
              "      <td>-0.450821</td>\n",
              "      <td>-0.16537</td>\n",
              "      <td>-0.292684</td>\n",
              "      <td>-0.193154</td>\n",
              "      <td>-0.144181</td>\n",
              "    </tr>\n",
              "    <tr>\n",
              "      <th>299</th>\n",
              "      <td>-0.312264</td>\n",
              "      <td>1.901857</td>\n",
              "      <td>-0.210312</td>\n",
              "      <td>-0.195872</td>\n",
              "      <td>-0.201095</td>\n",
              "      <td>-0.164567</td>\n",
              "      <td>-0.158347</td>\n",
              "      <td>-0.215335</td>\n",
              "      <td>-0.159684</td>\n",
              "      <td>-0.161096</td>\n",
              "      <td>...</td>\n",
              "      <td>-0.276717</td>\n",
              "      <td>-0.350613</td>\n",
              "      <td>3.111494</td>\n",
              "      <td>-0.242463</td>\n",
              "      <td>-0.512032</td>\n",
              "      <td>0.939769</td>\n",
              "      <td>-0.16537</td>\n",
              "      <td>-0.292684</td>\n",
              "      <td>-0.193154</td>\n",
              "      <td>-0.144181</td>\n",
              "    </tr>\n",
              "  </tbody>\n",
              "</table>\n",
              "<p>300 rows × 1000 columns</p>\n",
              "</div>\n",
              "      <button class=\"colab-df-convert\" onclick=\"convertToInteractive('df-11dda851-f56e-4c7d-be8a-4c8a4be37373')\"\n",
              "              title=\"Convert this dataframe to an interactive table.\"\n",
              "              style=\"display:none;\">\n",
              "        \n",
              "  <svg xmlns=\"http://www.w3.org/2000/svg\" height=\"24px\"viewBox=\"0 0 24 24\"\n",
              "       width=\"24px\">\n",
              "    <path d=\"M0 0h24v24H0V0z\" fill=\"none\"/>\n",
              "    <path d=\"M18.56 5.44l.94 2.06.94-2.06 2.06-.94-2.06-.94-.94-2.06-.94 2.06-2.06.94zm-11 1L8.5 8.5l.94-2.06 2.06-.94-2.06-.94L8.5 2.5l-.94 2.06-2.06.94zm10 10l.94 2.06.94-2.06 2.06-.94-2.06-.94-.94-2.06-.94 2.06-2.06.94z\"/><path d=\"M17.41 7.96l-1.37-1.37c-.4-.4-.92-.59-1.43-.59-.52 0-1.04.2-1.43.59L10.3 9.45l-7.72 7.72c-.78.78-.78 2.05 0 2.83L4 21.41c.39.39.9.59 1.41.59.51 0 1.02-.2 1.41-.59l7.78-7.78 2.81-2.81c.8-.78.8-2.07 0-2.86zM5.41 20L4 18.59l7.72-7.72 1.47 1.35L5.41 20z\"/>\n",
              "  </svg>\n",
              "      </button>\n",
              "      \n",
              "  <style>\n",
              "    .colab-df-container {\n",
              "      display:flex;\n",
              "      flex-wrap:wrap;\n",
              "      gap: 12px;\n",
              "    }\n",
              "\n",
              "    .colab-df-convert {\n",
              "      background-color: #E8F0FE;\n",
              "      border: none;\n",
              "      border-radius: 50%;\n",
              "      cursor: pointer;\n",
              "      display: none;\n",
              "      fill: #1967D2;\n",
              "      height: 32px;\n",
              "      padding: 0 0 0 0;\n",
              "      width: 32px;\n",
              "    }\n",
              "\n",
              "    .colab-df-convert:hover {\n",
              "      background-color: #E2EBFA;\n",
              "      box-shadow: 0px 1px 2px rgba(60, 64, 67, 0.3), 0px 1px 3px 1px rgba(60, 64, 67, 0.15);\n",
              "      fill: #174EA6;\n",
              "    }\n",
              "\n",
              "    [theme=dark] .colab-df-convert {\n",
              "      background-color: #3B4455;\n",
              "      fill: #D2E3FC;\n",
              "    }\n",
              "\n",
              "    [theme=dark] .colab-df-convert:hover {\n",
              "      background-color: #434B5C;\n",
              "      box-shadow: 0px 1px 3px 1px rgba(0, 0, 0, 0.15);\n",
              "      filter: drop-shadow(0px 1px 2px rgba(0, 0, 0, 0.3));\n",
              "      fill: #FFFFFF;\n",
              "    }\n",
              "  </style>\n",
              "\n",
              "      <script>\n",
              "        const buttonEl =\n",
              "          document.querySelector('#df-11dda851-f56e-4c7d-be8a-4c8a4be37373 button.colab-df-convert');\n",
              "        buttonEl.style.display =\n",
              "          google.colab.kernel.accessAllowed ? 'block' : 'none';\n",
              "\n",
              "        async function convertToInteractive(key) {\n",
              "          const element = document.querySelector('#df-11dda851-f56e-4c7d-be8a-4c8a4be37373');\n",
              "          const dataTable =\n",
              "            await google.colab.kernel.invokeFunction('convertToInteractive',\n",
              "                                                     [key], {});\n",
              "          if (!dataTable) return;\n",
              "\n",
              "          const docLinkHtml = 'Like what you see? Visit the ' +\n",
              "            '<a target=\"_blank\" href=https://colab.research.google.com/notebooks/data_table.ipynb>data table notebook</a>'\n",
              "            + ' to learn more about interactive tables.';\n",
              "          element.innerHTML = '';\n",
              "          dataTable['output_type'] = 'display_data';\n",
              "          await google.colab.output.renderOutput(dataTable, element);\n",
              "          const docLink = document.createElement('div');\n",
              "          docLink.innerHTML = docLinkHtml;\n",
              "          element.appendChild(docLink);\n",
              "        }\n",
              "      </script>\n",
              "    </div>\n",
              "  </div>\n",
              "  "
            ]
          },
          "metadata": {},
          "execution_count": 65
        }
      ]
    },
    {
      "cell_type": "code",
      "source": [
        "pca = PCA(n_components=1000)\n",
        "pca_2d = pca.fit_transform(x_scaledd)\n",
        "t = df[\"label\"].to_numpy()\n",
        "xs = pca_2d[:,0]\n",
        "ys = pca_2d[:,1]\n",
        "ones = np.where(t==1) # index where the label is 1\n",
        "zero = np.where(t==0) # # index where the label is 0"
      ],
      "metadata": {
        "id": "xp3slIrIdA3a"
      },
      "execution_count": null,
      "outputs": []
    },
    {
      "cell_type": "code",
      "source": [
        "model = KMeans(n_clusters=2,random_state=0)\n",
        "lables = model.fit_predict(x_scaledd)\n",
        "centers = model.cluster_centers_\n"
      ],
      "metadata": {
        "id": "0DyQg6hUeI_4"
      },
      "execution_count": null,
      "outputs": []
    },
    {
      "cell_type": "markdown",
      "source": [
        "# MNIST clustering (10 points)\n",
        "Redo the same analysis, but this time using the MNIST data set. Notice that this time there are actually 10 'true' clusters.\n",
        "\n",
        "1. What is the accuracy of the clustering when using k=10?\n",
        "   * When for computing the accuracy of 10 classes, first you need to define what is the label of each cluster. Do that by majority votes. In theory, you may get two or more clusters with the same labels. We will ignore that for now. Meaning that you don't need to bother in case there are two clusters with the same label according to the majority vote. Simply count what is the fraction of 'other' digits in each cluster.\n",
        "2. What is the optimal k?\n",
        "3. How do the results changes if you first run PCA?"
      ],
      "metadata": {
        "id": "JiYp9sP0apoz"
      }
    },
    {
      "cell_type": "code",
      "source": [],
      "metadata": {
        "id": "G4TMVFEcEBSN"
      },
      "execution_count": null,
      "outputs": []
    },
    {
      "cell_type": "markdown",
      "source": [
        "# Compute projection (10 points)\n",
        "**Notice:** No code required in this section.\n",
        "\n",
        "Given the next PCA projection matrix\n",
        "$\\begin{pmatrix}\n",
        "1 & 1\\\\\n",
        "2 & -1\n",
        "\\end{pmatrix}$\n",
        "And the correspoding egienvalues\n",
        "$(5, -1)$\n",
        "\n",
        "Compute the projection to one dimension of the next two vectors:\n",
        "\\begin{pmatrix}\n",
        "1 & 3\n",
        "\\end{pmatrix}\n",
        "\\begin{pmatrix}\n",
        "3 & 7\n",
        "\\end{pmatrix}"
      ],
      "metadata": {
        "id": "3ft1JUt39-4x"
      }
    },
    {
      "cell_type": "code",
      "source": [
        "# Answer here and show your computations (no code)"
      ],
      "metadata": {
        "id": "VCQQ0Jzxapo6"
      },
      "execution_count": null,
      "outputs": []
    },
    {
      "cell_type": "markdown",
      "source": [
        "*Your answers here*"
      ],
      "metadata": {
        "id": "Fzv4mYUkvqMB"
      }
    }
  ]
}